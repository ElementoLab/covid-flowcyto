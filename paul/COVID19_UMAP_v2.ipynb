{
 "cells": [
  {
   "cell_type": "code",
   "execution_count": null,
   "metadata": {},
   "outputs": [],
   "source": [
    "\"\"\"\n",
    "This is for looking at evolving immuno-landscape as a function of time for individual COVID-19 patients.\n",
    "\"\"\"\n",
    "base_path = \"../DataSets/2020_COVID19/\"\n",
    "\n",
    "import numpy as np\n",
    "from sklearn.datasets import load_digits\n",
    "from sklearn.model_selection import train_test_split\n",
    "from sklearn.preprocessing import StandardScaler\n",
    "import matplotlib.pyplot as plt\n",
    "import seaborn as sns\n",
    "import pandas as pd\n",
    "%matplotlib inline\n",
    "import umap\n",
    "import umap.plot\n",
    "import os\n",
    "from pathlib import Path\n",
    "import fcsparser\n",
    "from matplotlib.pyplot import figure"
   ]
  },
  {
   "cell_type": "code",
   "execution_count": null,
   "metadata": {},
   "outputs": [],
   "source": [
    "file_name_pattern = \"*.fcs\"\n",
    "\n",
    "fcs_file_paths = []\n",
    "fcs_file_names = []\n",
    "for filepath in Path(base_path).rglob(file_name_pattern):\n",
    "    fcs_file_paths.append(filepath)\n",
    "    fcs_file_names.append(filepath.name)\n",
    "\n",
    "def split_file_name_into_parts(filename):\n",
    "    \"\"\"This function assumes the files are named as [accession patient sample date].\"\"\"\n",
    "    spaces_positions = []\n",
    "    for i,x in enumerate(filename):\n",
    "        if x == ' ':\n",
    "            spaces_positions.append(i)\n",
    "            \n",
    "    underscore_positions = []\n",
    "    for i,x in enumerate(filename):\n",
    "        if x == '_':\n",
    "            underscore_positions.append(i)\n",
    "    \n",
    "    period_positions = []\n",
    "    for i,x in enumerate(filename):\n",
    "        if x == '.':\n",
    "            period_positions.append(i)\n",
    "    \n",
    "    patient_start = spaces_positions[0] + 1\n",
    "    sample_start = filename.find(\" PB \") + 1\n",
    "    date_start = sample_start + 3        \n",
    "    tube_start = filename.find(\"_WB_\") + 1\n",
    "    if tube_start == 0:\n",
    "        tube_start = filename.find(\"_PBMC_\") + 1\n",
    "\n",
    "    #default values\n",
    "    accession = patient = sample = date = tube = \"unknown\"\n",
    "    \n",
    "    accession = filename[0:patient_start - 1]\n",
    "    patient = filename[patient_start:sample_start - 1]\n",
    "    sample = filename[sample_start:date_start]\n",
    "    date = filename[date_start:tube_start-1]\n",
    "    tube = filename[tube_start:period_positions[0]]\n",
    "    \n",
    "    if sample_start == 0: #then there was a troublesome case with no \" PB \" in the name.\n",
    "        sample = \"PB\"  #All the cases in this study are peripheral blood.\n",
    "        date_start = spaces_positions[1] + 1\n",
    "        patient = filename[patient_start:date_start - 1]\n",
    "        date = filename[date_start:tube_start-1]\n",
    "    \n",
    "    if accession == \"unknown\" or patient == \"unknown\" or sample == \"unknown\" or \\\n",
    "    date == \"unknown\" or tube == \"unknown\":\n",
    "        print(filename)\n",
    "        print([accession, patient, sample, date, tube])\n",
    "    return [accession, patient, sample, date, tube]\n",
    "        \n",
    "parsed_file_names = []\n",
    "\n",
    "for filename in fcs_file_names:\n",
    "    parsed_file_names.append(split_file_name_into_parts(filename))\n",
    "    \n",
    "#print(parsed_folder_names)\n",
    "df = pd.DataFrame(parsed_file_names)\n",
    "df.columns = ['Accession', 'Patient', 'Sample', 'Date', 'Tube']\n",
    "df['File_Path'] = fcs_file_paths\n",
    "df['File_Name'] = fcs_file_names\n",
    "#df['Date']= pd.to_datetime(df['Date']) \n",
    "\n",
    "print(df.shape)\n",
    "df.head(5)    "
   ]
  },
  {
   "cell_type": "code",
   "execution_count": null,
   "metadata": {},
   "outputs": [],
   "source": [
    "print(len(df['Patient'].unique()))\n",
    "print((df['Patient'].unique()))\n",
    "\n",
    "print(len(df['Tube'].unique()))\n",
    "print((df['Tube'].unique()))"
   ]
  },
  {
   "cell_type": "code",
   "execution_count": null,
   "metadata": {},
   "outputs": [],
   "source": [
    "df.to_excel(base_path + \"parsed_file_names.xlsx\", index = None)"
   ]
  },
  {
   "cell_type": "code",
   "execution_count": null,
   "metadata": {},
   "outputs": [],
   "source": [
    "#Now make a dataframe of the patient with the most samples.\n",
    "patient_samples = df[df['Patient'].isin(df.Patient.mode().to_list())]\n",
    "patient_samples = patient_samples.sort_values(by='Date')\n",
    "patient_samples.head(1000)"
   ]
  },
  {
   "cell_type": "code",
   "execution_count": null,
   "metadata": {},
   "outputs": [],
   "source": [
    "tube_types = patient_samples['Tube'].unique()\n",
    "print(tube_types)"
   ]
  },
  {
   "cell_type": "code",
   "execution_count": null,
   "metadata": {},
   "outputs": [],
   "source": [
    "#Okay, I am now going to restrict it to the Treg tube and do the consecutive UMAPs.\n",
    "\n",
    "patient_Treg_samples = patient_samples[patient_samples['Tube'] == tube_types[0]]\n",
    "patient_Treg_samples = patient_Treg_samples.sort_values(by='Date')\n",
    "patient_Treg_samples.head(10)"
   ]
  },
  {
   "cell_type": "code",
   "execution_count": null,
   "metadata": {},
   "outputs": [],
   "source": [
    "path = patient_Treg_samples['File_Path'].to_list()[0]\n",
    "meta, data = fcsparser.parse(path, reformat_meta=True)\n",
    "meta['_channels_']\n",
    "\n",
    "del data['Time']\n",
    "del data['FSC-H']\n",
    "del data['SSC-H']\n",
    "print(data.shape)\n",
    "data.head()"
   ]
  },
  {
   "cell_type": "code",
   "execution_count": null,
   "metadata": {},
   "outputs": [],
   "source": [
    "#subdata = data.values[0:200000, :]\n",
    "subdata = data.values\n",
    "def transform_FCS_data(fcs_data_values):\n",
    "    new_values = fcs_data_values\n",
    "    new_values[new_values < 1] = 1\n",
    "    new_values = np.log10(new_values)\n",
    "    return new_values\n",
    "\n",
    "subdata = transform_FCS_data(subdata)"
   ]
  },
  {
   "cell_type": "code",
   "execution_count": null,
   "metadata": {},
   "outputs": [],
   "source": [
    "fit = umap.UMAP()\n",
    "%time u = fit.fit(subdata)"
   ]
  },
  {
   "cell_type": "code",
   "execution_count": null,
   "metadata": {},
   "outputs": [],
   "source": [
    "import umap.plot\n",
    "umap.plot.points(u)"
   ]
  },
  {
   "cell_type": "code",
   "execution_count": null,
   "metadata": {},
   "outputs": [],
   "source": [
    "%time u = fit.transform(subdata)\n",
    "plt.scatter(u[:,0], u[:,1], s=0.01)\n",
    "plt.title('UMAP');\n",
    "plt.show()\n",
    "\n",
    "from matplotlib.pyplot import figure\n",
    "figure(num=None, figsize=(4, 3), dpi=150, facecolor='w', edgecolor='k')\n",
    "\n",
    "#Plot it as a hexbin heatmap.\n",
    "plt.hexbin(u[:,0], u[:,1], gridsize=(150,150), cmap=plt.cm.Purples)\n",
    "plt.colorbar()\n",
    "plt.title('UMAP, Treg tube, ' + patient_Treg_samples['Date'].to_list()[0])\n",
    "plt.show()\n"
   ]
  },
  {
   "cell_type": "code",
   "execution_count": null,
   "metadata": {},
   "outputs": [],
   "source": [
    "#Now demonstrate the use of the embedding on a different set of data from the same specimen.\n",
    "\n",
    "subdata = transform_FCS_data(data.values[200000:, :])\n",
    "%time u = fit.transform(subdata)\n",
    "\n",
    "plt.scatter(u[:,0], u[:,1], s=0.01)\n",
    "plt.title('UMAP');\n",
    "plt.show()\n",
    "\n",
    "from matplotlib.pyplot import figure\n",
    "figure(num=None, figsize=(4, 3), dpi=150, facecolor='w', edgecolor='k')\n",
    "\n",
    "#Plot it as a hexbin heatmap.\n",
    "plt.hexbin(u[:,0], u[:,1], gridsize=(150,150), cmap=plt.cm.Purples)\n",
    "plt.colorbar()\n",
    "plt.title('UMAP, Treg tube, ' + patient_Treg_samples['Date'].to_list()[0])\n",
    "plt.show()\n"
   ]
  },
  {
   "cell_type": "code",
   "execution_count": null,
   "metadata": {
    "scrolled": false
   },
   "outputs": [],
   "source": [
    "#Okay, now I am going to make the embedding using all points in the data.  \n",
    "#Then, I will transform the other files and plot.\n",
    "\n",
    "path = patient_Treg_samples['File_Path'].to_list()[0]\n",
    "meta, data = fcsparser.parse(path, reformat_meta=True)\n",
    "del data['Time']\n",
    "del data['FSC-H']\n",
    "del data['SSC-H']\n",
    "print(data.shape)\n",
    "\n",
    "data = transform_FCS_data(data.values[0:250000,:])\n",
    "\n",
    "fit = umap.UMAP()\n",
    "%time u = fit.fit(data)\n",
    "\n",
    "#umap.plot.points(u)\n",
    "#plt.show()\n",
    "\n",
    "%time u = fit.transform(data)\n",
    "\n",
    "\"\"\"\n",
    "#Make a scatter plot.\n",
    "figure(num=None, figsize=(6, 4.5), dpi=300, facecolor='w', edgecolor='k')\n",
    "plt.scatter(u[:,0], u[:,1], s=0.005)\n",
    "plt.title('UMAP, Treg tube, ' + patient_Treg_samples['Date'].to_list()[0])\n",
    "plt.show()\n",
    "\n",
    "#Plot it as a hexbin heatmap.\n",
    "figure(num=None, figsize=(6, 4.5), dpi=300, facecolor='w', edgecolor='k')\n",
    "plt.hexbin(u[:,0], u[:,1], gridsize=(100,100))#, cmap=plt.cm.Reds)\n",
    "plt.colorbar()\n",
    "plt.title('UMAP, Treg tube, ' + patient_Treg_samples['Date'].to_list()[0])\n",
    "plt.show()\n",
    "\n",
    "\n",
    "#\n",
    "figure(num=None, figsize=(6, 4.5), dpi=300, facecolor='w', edgecolor='k')\n",
    "plt.hist2d(u[:,0], u[:,1],bins=100)\n",
    "plt.show()\n",
    "\"\"\"\n",
    "#\n",
    "with sns.axes_style(\"white\"):\n",
    "    sns.jointplot(u[:,0], u[:,1], kind=\"hex\", color=\"k\", bins=100);\n",
    "  "
   ]
  },
  {
   "cell_type": "code",
   "execution_count": null,
   "metadata": {},
   "outputs": [],
   "source": [
    "for i, path in enumerate(patient_Treg_samples['File_Path'].to_list()):\n",
    "    meta, data = fcsparser.parse(path, reformat_meta=True)\n",
    "    del data['Time']\n",
    "    del data['FSC-H']\n",
    "    del data['SSC-H']\n",
    "    data = transform_FCS_data(data.values)\n",
    "    %time u = fit.transform(data)\n",
    "    \n",
    "    #Make a scatter plot.\n",
    "    figure(num=None, figsize=(4, 3), dpi=150, facecolor='w', edgecolor='k')\n",
    "    plt.scatter(u[:,0], u[:,1], s=0.01, alpha=0.5)\n",
    "    plt.title('UMAP, Treg tube, ' + patient_Treg_samples['Date'].to_list()[i])\n",
    "    plt.show()\n",
    "    \n",
    "    #Plot it as a hexbin heatmap.\n",
    "    figure(num=None, figsize=(4, 3), dpi=150, facecolor='w', edgecolor='k')\n",
    "    plt.hexbin(u[:,0], u[:,1], gridsize=(150,150), cmap=plt.cm.Purples)\n",
    "    plt.colorbar()\n",
    "    plt.title('UMAP, Treg tube, ' + patient_Treg_samples['Date'].to_list()[i])\n",
    "    plt.show()\n",
    "\n"
   ]
  },
  {
   "cell_type": "code",
   "execution_count": null,
   "metadata": {},
   "outputs": [],
   "source": [
    "#Just plot the hexbins\n",
    "for i, path in enumerate(patient_Treg_samples['File_Path'].to_list()):\n",
    "    meta, data = fcsparser.parse(path, reformat_meta=True)\n",
    "    del data['Time']\n",
    "    del data['FSC-H']\n",
    "    del data['SSC-H']\n",
    "    data = transform_FCS_data(data.values)\n",
    "    %time u = fit.transform(data)\n",
    "    \n",
    "    print('UMAP, Treg tube, ' + patient_Treg_samples['Date'].to_list()[i])\n",
    "    with sns.axes_style(\"white\"):\n",
    "        sns.jointplot(u[:,0], u[:,1], kind=\"hex\", color=\"k\", bins=100);\n",
    "    plt.show()\n",
    "    "
   ]
  },
  {
   "cell_type": "code",
   "execution_count": null,
   "metadata": {},
   "outputs": [],
   "source": [
    "for i, path in enumerate(patient_Treg_samples['File_Path'].to_list()):\n",
    "    meta, data = fcsparser.parse(path, reformat_meta=True)\n",
    "    del data['Time']\n",
    "    del data['FSC-H']\n",
    "    del data['SSC-H']\n",
    "    data = transform_FCS_data(data.values)\n",
    "    %time u = fit.transform(data)\n",
    "    \n",
    "\n",
    "    #Plot it as a hexbin heatmap.\n",
    "    figure(num=None, figsize=(4, 3), dpi=150, facecolor='w', edgecolor='k')\n",
    "    plt.hexbin(u[:,0], u[:,1], gridsize=(100,100))\n",
    "    plt.colorbar()\n",
    "    plt.title('UMAP, Treg tube, ' + patient_Treg_samples['Date'].to_list()[i])\n",
    "    plt.show()\n",
    "\n"
   ]
  },
  {
   "cell_type": "code",
   "execution_count": null,
   "metadata": {},
   "outputs": [],
   "source": [
    "#Okay, now I am going to make the embedding using all points in the data.  \n",
    "#Then, I will transform the other files and plot.\n",
    "\n",
    "#Approach 2: make embedding using some cells from each sample.\n",
    "\n",
    "\n",
    "data_list = []\n",
    "for path in patient_Treg_samples['File_Path'].to_list():\n",
    "    meta, data = fcsparser.parse(path, reformat_meta=True)\n",
    "    del data['Time']\n",
    "    del data['FSC-H']\n",
    "    del data['SSC-H']\n",
    "    print(data.shape)\n",
    "    data = transform_FCS_data(data.values[0:50000,:])\n",
    "    data_list.append(data)\n",
    "    \n",
    "data_concatenated = np.concatenate(data_list, axis=0)\n",
    "print(data_concatenated.shape)\n"
   ]
  },
  {
   "cell_type": "code",
   "execution_count": null,
   "metadata": {},
   "outputs": [],
   "source": [
    "fit = umap.UMAP()\n",
    "%time u = fit.fit_transform(data_concatenated)\n",
    "\n",
    "#umap.plot.points(u)\n",
    "#plt.show()\n",
    "\n",
    "#%time u = fit.transform(data)\n",
    "\n",
    "#\n",
    "with sns.axes_style(\"white\"):\n",
    "    sns.jointplot(u[:,0], u[:,1], kind=\"hex\", color=\"k\", bins=100);\n",
    "  "
   ]
  },
  {
   "cell_type": "code",
   "execution_count": null,
   "metadata": {},
   "outputs": [],
   "source": [
    "#Plot it as a hexbin heatmap.\n",
    "figure(num=None, figsize=(4, 3), dpi=150, facecolor='w', edgecolor='k')\n",
    "plt.hexbin(u[:,0], u[:,1], gridsize=(100,100), cmap='inferno')\n",
    "plt.colorbar()\n",
    "plt.title('UMAP embedding, Treg')\n",
    "plt.show()\n",
    "\n"
   ]
  },
  {
   "cell_type": "code",
   "execution_count": null,
   "metadata": {},
   "outputs": [],
   "source": [
    "#Just plot the hexbins\n",
    "for i, path in enumerate(patient_Treg_samples['File_Path'].to_list()):\n",
    "    meta, data = fcsparser.parse(path, reformat_meta=True)\n",
    "    del data['Time']\n",
    "    del data['FSC-H']\n",
    "    del data['SSC-H']\n",
    "    data = transform_FCS_data(data.values)\n",
    "    %time u = fit.transform(data)\n",
    "    \n",
    "    print('UMAP, Treg tube, ' + patient_Treg_samples['Date'].to_list()[i])\n",
    "    with sns.axes_style(\"white\"):\n",
    "        sns.jointplot(u[:,0], u[:,1], kind=\"hex\", color=\"k\", bins=150);\n",
    "    plt.show()\n",
    "    \n",
    "    figure(num=None, figsize=(4, 3), dpi=150, facecolor='w', edgecolor='k')\n",
    "    plt.hexbin(u[:,0], u[:,1], gridsize=(100,100), cmap='inferno')\n",
    "    plt.colorbar()\n",
    "    plt.title('UMAP, Treg, ' + patient_Treg_samples['Date'].to_list()[i])\n",
    "    plt.show()"
   ]
  },
  {
   "cell_type": "code",
   "execution_count": null,
   "metadata": {},
   "outputs": [],
   "source": []
  }
 ],
 "metadata": {
  "kernelspec": {
   "display_name": "Python 3",
   "language": "python",
   "name": "python3"
  },
  "language_info": {
   "codemirror_mode": {
    "name": "ipython",
    "version": 3
   },
   "file_extension": ".py",
   "mimetype": "text/x-python",
   "name": "python",
   "nbconvert_exporter": "python",
   "pygments_lexer": "ipython3",
   "version": "3.8.3"
  }
 },
 "nbformat": 4,
 "nbformat_minor": 2
}
